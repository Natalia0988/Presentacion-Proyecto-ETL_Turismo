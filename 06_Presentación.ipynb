{
 "cells": [
  {
   "cell_type": "markdown",
   "id": "c71c0fdb-4e48-4ab3-b32f-f5a138a85d6b",
   "metadata": {},
   "source": [
    "***OBJETIVO PRINCIPAL DE LA PRESENTACIÓN:***"
   ]
  },
  {
   "cell_type": "markdown",
   "id": "a5d02ed5-16f1-4620-9836-e93c6fb9c7c1",
   "metadata": {},
   "source": [
    "**1. Introducción (1 min)**\n",
    "\n",
    "**Una España que viaja para sentir, no solo para ver**\n",
    "\n",
    "Nuestro proyecto se centra en analizar el turismo nacional e internacional en España desde un enfoque más profundo hacia lo experiencial y sostenible, explorando cómo se distribuyen los turistas y el gasto por comunidades autónomas.\n",
    "\n",
    "*Motivación:*\n",
    "\n",
    "Elegimos este tema porque el turismo es una parte clave de la economía española y queríamos investigar cómo se distribuyen los turistas y el gasto en diferentes experiencias por comunidades autónomas."
   ]
  },
  {
   "cell_type": "markdown",
   "id": "5ac6f0d3-40a3-4681-ab6b-ce538431e8bb",
   "metadata": {},
   "source": [
    "**2. Fase de Extracción (2 min)**\n",
    "\n",
    "*¿Qué fuente/API hemos usado?*\n",
    "\n",
    "Utilizamos la API de DATAESTUR, que ofrece datos abiertos sobre turismo en España.\n",
    "\n",
    "*¿Qué problemas nos hemos encontrado?*\n",
    "\n",
    "* Nos encontramos con que los endpoints de la API no eran funcionales directamente desde el código, no se podían usar con peticiones automáticas y por ese motivo, tuvimos que adaptar la estrategia de extracción y descargar los datos manualmente en formato Excel (.xlsx) y automatizar el procesamiento desde ahí.\n",
    "* Datos fragmentados.\n",
    "* Repetición de comunidades con distinto nombre en cada dato extraído.\n",
    "\n",
    "*¿Cómo resolvimos esos problemas?*\n",
    "\n",
    "Creamos funciones reutilizables para automatizar la descarga y extracción de datos."
   ]
  },
  {
   "cell_type": "markdown",
   "id": "18487d30-6ee3-4106-8ac0-e510f496a5cf",
   "metadata": {},
   "source": [
    "**3. Fase de Transformación (2 min)**\n",
    "\n",
    "*¿Qué limpieza hemos hecho?*\n",
    "* Unificamos nombres de comunidades.\n",
    "* Normalizamos datos numéricos.\n",
    "* Eliminamos filas con datos nulos.\n",
    "* Añadimos columnas en caso de ser necesario.\n",
    "\n",
    "*¿Qué funciones o scripts automatizamos?*\n",
    "\n",
    "Creamos funciones genéricas como cargar_excel(), limpiar() que podían aplicarse a varios datasets.\n",
    "\n",
    "*¿Qué variables claves obtuvimos?*\n",
    "* Turistas por comunidad\n",
    "* Gasto por tipo\n",
    "* Distintos tipos de turista/turismo"
   ]
  },
  {
   "cell_type": "markdown",
   "id": "4f83a727-fc5a-477e-87db-0f1d539b34ff",
   "metadata": {},
   "source": [
    "**4. Visualización (2 min)**\n",
    "\n",
    "Aquí mostramos y describimos 6 gráficos clave (2 cada una), con su conclusión:\n",
    "\n",
    "Gráfico 1:\n",
    "* Top 5 comunidades por número de turistas.\n",
    "![Grafico de gasto](data/grafico1.png)\n",
    "Gráfico 2: \n",
    "* Gasto turístico anual por CCAA.\n",
    "![Grafico de gasto](data/grafico.png)\n",
    "Gráfico 3: \n",
    "* Visitantes por CCAA y tipo (turista VS excursionista).\n",
    "\n",
    "Gráfico 4:            \n",
    "* Crecimiento d 2018-2022 por tipo de visitante y tipo de CCAA.\n",
    "\n",
    "Gráfico 5: \n",
    "* Beneficio por CCAA de las tres primeras categorías.\n",
    "![Grafico de gasto](data/grafico_flor.png)\n",
    "\n",
    "En estos gráficos se puede observar como Andalucía y Cataluña son las comunidades con más turistas, tanto internacionales como nacionales (en su mayor parte) pero que el gasto turista es bastante más alto en Cataluña a pesar de que Andalucía le supere en número de turistas.\n",
    "\n",
    "También podemos ver que en la mayoría de comunidades hay más visitantes turistas que excursionistas, pero que aún así el porcentaje de crecimiento es mucho mayor en excursionistas tradicionales que en cualquier otro tipo de visitante.\n",
    "\n",
    "Además nos damos cuenta como la música, la cultura, el teatro, la danza y las actividades infantiles son las actividades más demandadas, siendo Madrid la comunidad que más beneficio obtiene de la música y Cataluña la que más beneficio obtiene de la cultura, el teatro, la danza y también de las actividades infantiles.\n"
   ]
  },
  {
   "cell_type": "markdown",
   "id": "9baeb54c-c270-4135-9772-62d7b56278cb",
   "metadata": {},
   "source": [
    "**5. Storytelling / Cierre (2-3 min)**\n",
    "\n",
    "*Resumen del proyecto en 2-3 frases.*\n",
    "\n",
    "A lo largo del proyecto hemos automatizado la descarga, limpieza y análisis de datos turísticos, lo que nos ha permitido identificar patrones de gasto y preferencia turística en distintas comunidades.\n",
    "\n",
    "Como herramientas hemos utilizado: Python, Pandas, NumPy, Matplotlib, Seaborn…\n",
    "\n",
    "*Desafíos clave y cómo los hemos superado.*\n",
    "\n",
    "El mayor reto fue visualizar todos y cada unos de los endpoints que tenía la Api teniendo que hacer descarga de cada uno de ellos para poder visualizar su contenido y decidir cuales realmente nos interesaban para poder extraer datos relevantes para nuestro proyecto (de haberlo sabido creo que hubiésemos elegido una API un poco más cómoda para trabajar con ella, por lo menos en este primer proyecto).\n",
    "También lo ha sido unificar los datos de diferentes fuentes, que tenían formatos distintos y muchas veces ha sido frustrante no conseguir resultados hasta después de muchos intentos.\n",
    "\n",
    "Y poco más que añadir, este ha sido nuestro intento de proyecto :) \n",
    "Si tenéis alguna pregunta, estamos encantadas de responder y sino pues daros las gracias por la atención y esperemos que os haya resultado ameno e interesante."
   ]
  },
  {
   "cell_type": "code",
   "execution_count": null,
   "id": "033eea43-2559-471c-b51e-55964839079a",
   "metadata": {},
   "outputs": [],
   "source": []
  },
  {
   "cell_type": "code",
   "execution_count": null,
   "id": "8a391607-9286-4aa6-8396-3fbe6ff752d4",
   "metadata": {},
   "outputs": [],
   "source": []
  },
  {
   "cell_type": "code",
   "execution_count": null,
   "id": "5c812044-5d24-46d6-85e7-ef8c10c32b23",
   "metadata": {},
   "outputs": [],
   "source": []
  },
  {
   "cell_type": "code",
   "execution_count": null,
   "id": "30a76666-8c07-43cc-97f3-1813e6dc716f",
   "metadata": {},
   "outputs": [],
   "source": []
  },
  {
   "cell_type": "code",
   "execution_count": null,
   "id": "2b74201f-7e58-426d-8556-723a47371da5",
   "metadata": {},
   "outputs": [],
   "source": []
  },
  {
   "cell_type": "code",
   "execution_count": null,
   "id": "e472eeeb-aeb8-4d15-bb4b-fddb2d922b47",
   "metadata": {},
   "outputs": [],
   "source": []
  },
  {
   "cell_type": "code",
   "execution_count": null,
   "id": "83ca981e-84d9-4e2c-961d-7446d7eea9fd",
   "metadata": {},
   "outputs": [],
   "source": []
  }
 ],
 "metadata": {
  "kernelspec": {
   "display_name": "Python [conda env:base] *",
   "language": "python",
   "name": "conda-base-py"
  },
  "language_info": {
   "codemirror_mode": {
    "name": "ipython",
    "version": 3
   },
   "file_extension": ".py",
   "mimetype": "text/x-python",
   "name": "python",
   "nbconvert_exporter": "python",
   "pygments_lexer": "ipython3",
   "version": "3.12.7"
  }
 },
 "nbformat": 4,
 "nbformat_minor": 5
}
